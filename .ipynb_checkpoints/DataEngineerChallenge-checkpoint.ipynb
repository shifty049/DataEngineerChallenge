{
 "cells": [
  {
   "cell_type": "code",
   "execution_count": 344,
   "metadata": {},
   "outputs": [],
   "source": [
    "import pandas as pd\n",
    "import numpy as np\n",
    "import gzip\n",
    "import re\n",
    "import dateutil.parser"
   ]
  },
  {
   "cell_type": "code",
   "execution_count": 438,
   "metadata": {},
   "outputs": [],
   "source": [
    "class DataAnalysis(object):\n",
    "    def __init__(self,gzip_path,session_period):\n",
    "        '''\n",
    "        purpose : read data from gzip and transform data into dataframe\n",
    "        param gzip_path      : path of data\n",
    "        param session_period : define total time for a session (unit: second)\n",
    "        '''\n",
    "        # a list of all column name\n",
    "        self.column_list=[\n",
    "        'timestamp',\n",
    "        'elb',\n",
    "        'client:port',\n",
    "        'backend:port',\n",
    "        'request_processing_time',\n",
    "        'backend_processing_time',\n",
    "        'response_processing_time',\n",
    "        'elb_status_code',\n",
    "        'backend_status_code',\n",
    "        'received_bytes',\n",
    "        'sent_bytes',\n",
    "        'request',\n",
    "        'user_agent',\n",
    "        'ssl_cipher',\n",
    "        'ssl_protocol']\n",
    "        self.session_period=session_period\n",
    "        self.content_list=[]\n",
    "        with gzip.open(gzip_path, 'rb') as f:\n",
    "            for row in f:\n",
    "\n",
    "                variable_row=re.split((\" (?=(?:[^\\\"]*\\\"[^\\\"]*\\\")*[^\\\"]*$)\"),row.strip().decode())\n",
    "\n",
    "                #string split succefully\n",
    "                if len(variable_row)==len(self.column_list):\n",
    "                    pass\n",
    "                # double quotation in request dealing       \n",
    "                else:\n",
    "                    request=re.search(\"GET.*HTTP/[0-9]+.[0-9]+\",row.strip().decode())[0]\n",
    "                    row_update=re.sub('\"GET.*HTTP/[0-9]+.[0-9]+\" ','',row.strip().decode())\n",
    "                    variable_row=re.split((\" (?=(?:[^\\\"]*\\\"[^\\\"]*\\\")*[^\\\"]*$)\"),row_update)\n",
    "                    variable_row.insert(self.column_list.index('request'),request)\n",
    "                self.content_list.append(variable_row)        \n",
    "        self.log_dataframe=pd.DataFrame(self.content_list,columns=self.column_list)\n",
    "        # format 'timestamp' from str into timestamp\n",
    "        self.log_dataframe['timestamp']=self.log_dataframe['timestamp'].apply(lambda x:dateutil.parser.parse(x))\n",
    "    def SessionAnalysis(self):\n",
    "        '''\n",
    "        Q1      : session analysis\n",
    "        purpose : aggregrate all page hits by visitor/IP during a defined session\n",
    "        '''\n",
    "        self.result_dict={}\n",
    "        # select and sort by client:port,timestamp and tansform dataframe into list\n",
    "        for index,item in enumerate(self.log_dataframe[['client:port','timestamp']].sort_values(by=['client:port','timestamp']).values.tolist()):\n",
    "            if item[0] not in self.result_dict.keys():\n",
    "                self.result_dict[item[0]]=[[item[1]]]\n",
    "            else:\n",
    "                if (item[1]-self.result_dict[item[0]][-1][0]).total_seconds()<self.session_period:            \n",
    "                    self.result_dict[item[0]][-1].append(item[1])\n",
    "                else:\n",
    "                    self.result_dict[item[0]].append([item[1]])\n",
    "        \n",
    "        #total clicks for all sessions\n",
    "        sum_all_session=sum([len(session) for item in self.result_dict.values() for session in item])\n",
    "        # total session numbers\n",
    "        session_num=len([len(session) for item in self.result_dict.values() for session in item])\n",
    "        \n",
    "        # average click times per session\n",
    "        return sum_all_session/session_num\n",
    "    def SessionAverageTime(self):\n",
    "        '''\n",
    "        Q2      : average session time\n",
    "        purpose : aggregrate average session time during a session period\n",
    "        '''\n",
    "        self.average_time_dict={}\n",
    "        for key in self.result_dict.keys():\n",
    "            \n",
    "            # record time period between the first and the last request\n",
    "            for session in self.result_dict[key]:\n",
    "            \n",
    "                #ignore only  one click during a session\n",
    "                if len(session) ==1:\n",
    "                    pass\n",
    "                \n",
    "                elif key not in self.average_time_dict.keys():\n",
    "                    self.average_time_dict[key]=[(session[-1]-session[0]).total_seconds()]\n",
    "                \n",
    "                else:\n",
    "                    self.average_time_dict[key].append((session[-1]-session[0]).total_seconds())\n",
    "        \n",
    "        \n",
    "        \n",
    "        # total session time\n",
    "        total_session_time=sum([time for session in self.average_time_dict.values() for time in session])       \n",
    "        # total session number\n",
    "        total_session_numbers=len([time for session in self.average_time_dict.values() for time in session])\n",
    "        \n",
    "        # return average time (seconds)\n",
    "        return  total_session_time / total_session_numbers\n",
    "    def DistinctSessionAnalysis(self):\n",
    "        '''\n",
    "        Q3      : session analysis with distinct visited URL\n",
    "        purpose : aggregrate all dustinct URLs hits by visitor/IP during a defined session\n",
    "        '''\n",
    "        self.result_dict={}\n",
    "        # select and sort by client:port,timestamp and tansform dataframe into list\n",
    "        for index,item in enumerate(self.log_dataframe[['client:port','timestamp','request']].sort_values(by=['client:port','timestamp']).values.tolist()):\n",
    "\n",
    "            if item[0] not in self.result_dict.keys():\n",
    "                distinct=[]\n",
    "                self.result_dict[item[0]]=[[item[1]]]\n",
    "                distinct.append(item[2])\n",
    "            else:\n",
    "                if (item[1]-self.result_dict[item[0]][-1][0]).total_seconds()<self.session_period:            \n",
    "                    # only record distinct request\n",
    "                    if item[2] not in distinct:\n",
    "                        self.result_dict[item[0]][-1].append(item[1])\n",
    "                    else:\n",
    "                        pass\n",
    "                else:\n",
    "                    distinct=[]\n",
    "                    self.result_dict[item[0]].append([item[1]])\n",
    "                    distinct.append(item[2])\n",
    "        \n",
    "        #total clicks for all sessions\n",
    "        distinct_sum_all_session=sum([len(session) for item in self.result_dict.values() for session in item])\n",
    "        # total session numbers\n",
    "        distinct_session_num=len([len(session) for item in self.result_dict.values() for session in item])\n",
    "        \n",
    "        # average click times per session\n",
    "        return distinct_sum_all_session / distinct_session_num\n",
    "    \n",
    "    def MostEngagedUsers(self):\n",
    "        '''\n",
    "        Q4      : most engaged users\n",
    "        purpose : find out the ip with the longest within a session\n",
    "        '''       \n",
    "        # use session time record (SessionAverageTime) in Q2 to aggregate result\n",
    "        self.engaged_time={}\n",
    "        for IP in self.average_time_dict.keys():\n",
    "            \n",
    "            if sum(self.average_time_dict[IP]) not in self.engaged_time.keys():\n",
    "                self.engaged_time[sum(self.average_time_dict[IP])]=[IP]\n",
    "            else:\n",
    "                self.engaged_time[sum(self.average_time_dict[IP])].append(IP)\n",
    "\n",
    "        longest_session_time=max(self.engaged_time.keys()) \n",
    "        most_engaged_users_list=self.engaged_time[longest_session_time]  \n",
    "        # return the user with the longest duration of all sessions\n",
    "        return most_engaged_users_list,longest_session_time      "
   ]
  },
  {
   "cell_type": "markdown",
   "metadata": {},
   "source": [
    "## Processing & Analytical goals:\n",
    "\n",
    "1. Sessionize the web log by IP. Sessionize = aggregrate all page hits by visitor/IP during a session.\n",
    "    https://en.wikipedia.org/wiki/Session_(web_analytics)\n",
    "\n",
    "2. Determine the average session time\n",
    "\n",
    "3. Determine unique URL visits per session. To clarify, count a hit to a unique URL only once per session.\n",
    "\n",
    "4. Find the most engaged users, ie the IPs with the longest session times"
   ]
  },
  {
   "cell_type": "code",
   "execution_count": 440,
   "metadata": {},
   "outputs": [
    {
     "name": "stdout",
     "output_type": "stream",
     "text": [
      "average clicks per session(1800 seconds):  2.658091634755036\n",
      "average session time(seconds) per session(1800 seconds):  59.710654312987316\n",
      "unique URL visits per session(1800 seconds):  2.5680905104866705\n",
      "With the longest overall session time at 4718.3 seconds, the most engaged user is:  203.191.34.178:10400\n"
     ]
    }
   ],
   "source": [
    "gzip_path_str='data/2015_07_22_mktplace_shop_web_log_sample.log.gz'\n",
    "# define 1800 seconds as a session\n",
    "session_period_int=1800\n",
    "data=DataAnalysis(gzip_path=gzip_path_str,session_period=session_period_int)\n",
    "\n",
    "# Q1 average clicks per session (defined session as 1800 seconds)\n",
    "resultQ1=data.SessionAnalysis()\n",
    "print('average clicks per session(%s seconds): '%session_period_int,resultQ1)\n",
    "\n",
    "# Q2 average clicks per session (defined session as 1800 seconds)\n",
    "resultQ2=data.SessionAverageTime()\n",
    "print('average session time(seconds) per session(%s seconds): '%session_period_int,resultQ2)\n",
    "\n",
    "# Q3 average distinct urls visited per session (defined session as 1800 seconds)\n",
    "resultQ3=data.DistinctSessionAnalysis()\n",
    "print('unique URL visits per session(%s seconds): '%session_period_int,resultQ3)\n",
    "# Q4 most engaged users per session (defined session as 1800 seconds)\n",
    "resultQ4,overall_duration_time=data.MostEngagedUsers()\n",
    "if len(resultQ4)==1:\n",
    "    print('With the longest overall session time at %s seconds, the most engaged user is: '%overall_duration_time,resultQ4[0])\n",
    "else:\n",
    "    print('With the longest overall session time at %s seconds, the most engaged users are: '%overall_duration_time,resultQ4)\n"
   ]
  },
  {
   "cell_type": "code",
   "execution_count": 395,
   "metadata": {
    "scrolled": true
   },
   "outputs": [
    {
     "data": {
      "text/html": [
       "<div>\n",
       "<style scoped>\n",
       "    .dataframe tbody tr th:only-of-type {\n",
       "        vertical-align: middle;\n",
       "    }\n",
       "\n",
       "    .dataframe tbody tr th {\n",
       "        vertical-align: top;\n",
       "    }\n",
       "\n",
       "    .dataframe thead th {\n",
       "        text-align: right;\n",
       "    }\n",
       "</style>\n",
       "<table border=\"1\" class=\"dataframe\">\n",
       "  <thead>\n",
       "    <tr style=\"text-align: right;\">\n",
       "      <th></th>\n",
       "      <th>timestamp</th>\n",
       "      <th>elb</th>\n",
       "      <th>client:port</th>\n",
       "      <th>backend:port</th>\n",
       "      <th>request_processing_time</th>\n",
       "      <th>backend_processing_time</th>\n",
       "      <th>response_processing_time</th>\n",
       "      <th>elb_status_code</th>\n",
       "      <th>backend_status_code</th>\n",
       "      <th>received_bytes</th>\n",
       "      <th>sent_bytes</th>\n",
       "      <th>request</th>\n",
       "      <th>user_agent</th>\n",
       "      <th>ssl_cipher</th>\n",
       "      <th>ssl_protocol</th>\n",
       "    </tr>\n",
       "  </thead>\n",
       "  <tbody>\n",
       "    <tr>\n",
       "      <th>0</th>\n",
       "      <td>2015-07-22 09:00:28.019143+00:00</td>\n",
       "      <td>marketpalce-shop</td>\n",
       "      <td>123.242.248.130:54635</td>\n",
       "      <td>10.0.6.158:80</td>\n",
       "      <td>0.000022</td>\n",
       "      <td>0.026109</td>\n",
       "      <td>0.00002</td>\n",
       "      <td>200</td>\n",
       "      <td>200</td>\n",
       "      <td>0</td>\n",
       "      <td>699</td>\n",
       "      <td>\"GET https://paytm.com:443/shop/authresponse?c...</td>\n",
       "      <td>\"Mozilla/5.0 (Windows NT 6.1; WOW64) AppleWebK...</td>\n",
       "      <td>ECDHE-RSA-AES128-GCM-SHA256</td>\n",
       "      <td>TLSv1.2</td>\n",
       "    </tr>\n",
       "    <tr>\n",
       "      <th>1</th>\n",
       "      <td>2015-07-22 09:00:27.894580+00:00</td>\n",
       "      <td>marketpalce-shop</td>\n",
       "      <td>203.91.211.44:51402</td>\n",
       "      <td>10.0.4.150:80</td>\n",
       "      <td>0.000024</td>\n",
       "      <td>0.15334</td>\n",
       "      <td>0.000026</td>\n",
       "      <td>200</td>\n",
       "      <td>200</td>\n",
       "      <td>0</td>\n",
       "      <td>1497</td>\n",
       "      <td>\"GET https://paytm.com:443/shop/wallet/txnhist...</td>\n",
       "      <td>\"Mozilla/5.0 (Windows NT 6.1; rv:39.0) Gecko/2...</td>\n",
       "      <td>ECDHE-RSA-AES128-GCM-SHA256</td>\n",
       "      <td>TLSv1.2</td>\n",
       "    </tr>\n",
       "    <tr>\n",
       "      <th>2</th>\n",
       "      <td>2015-07-22 09:00:27.885745+00:00</td>\n",
       "      <td>marketpalce-shop</td>\n",
       "      <td>1.39.32.179:56419</td>\n",
       "      <td>10.0.4.244:80</td>\n",
       "      <td>0.000024</td>\n",
       "      <td>0.164958</td>\n",
       "      <td>0.000017</td>\n",
       "      <td>200</td>\n",
       "      <td>200</td>\n",
       "      <td>0</td>\n",
       "      <td>157</td>\n",
       "      <td>\"GET https://paytm.com:443/shop/wallet/txnhist...</td>\n",
       "      <td>\"Mozilla/5.0 (Windows NT 6.1) AppleWebKit/537....</td>\n",
       "      <td>ECDHE-RSA-AES128-GCM-SHA256</td>\n",
       "      <td>TLSv1.2</td>\n",
       "    </tr>\n",
       "    <tr>\n",
       "      <th>3</th>\n",
       "      <td>2015-07-22 09:00:28.048369+00:00</td>\n",
       "      <td>marketpalce-shop</td>\n",
       "      <td>180.179.213.94:48725</td>\n",
       "      <td>10.0.6.108:80</td>\n",
       "      <td>0.00002</td>\n",
       "      <td>0.002333</td>\n",
       "      <td>0.000021</td>\n",
       "      <td>200</td>\n",
       "      <td>200</td>\n",
       "      <td>0</td>\n",
       "      <td>35734</td>\n",
       "      <td>\"GET https://paytm.com:443/shop/p/micromax-yu-...</td>\n",
       "      <td>\"-\"</td>\n",
       "      <td>ECDHE-RSA-AES128-GCM-SHA256</td>\n",
       "      <td>TLSv1.2</td>\n",
       "    </tr>\n",
       "    <tr>\n",
       "      <th>4</th>\n",
       "      <td>2015-07-22 09:00:28.036251+00:00</td>\n",
       "      <td>marketpalce-shop</td>\n",
       "      <td>120.59.192.208:13527</td>\n",
       "      <td>10.0.4.217:80</td>\n",
       "      <td>0.000024</td>\n",
       "      <td>0.015091</td>\n",
       "      <td>0.000016</td>\n",
       "      <td>200</td>\n",
       "      <td>200</td>\n",
       "      <td>68</td>\n",
       "      <td>640</td>\n",
       "      <td>\"POST https://paytm.com:443/papi/v1/expresscar...</td>\n",
       "      <td>\"Mozilla/5.0 (Windows NT 6.1; WOW64) AppleWebK...</td>\n",
       "      <td>ECDHE-RSA-AES128-GCM-SHA256</td>\n",
       "      <td>TLSv1.2</td>\n",
       "    </tr>\n",
       "    <tr>\n",
       "      <th>5</th>\n",
       "      <td>2015-07-22 09:00:28.033793+00:00</td>\n",
       "      <td>marketpalce-shop</td>\n",
       "      <td>117.239.195.66:50524</td>\n",
       "      <td>10.0.6.195:80</td>\n",
       "      <td>0.000024</td>\n",
       "      <td>0.02157</td>\n",
       "      <td>0.000021</td>\n",
       "      <td>200</td>\n",
       "      <td>200</td>\n",
       "      <td>0</td>\n",
       "      <td>60</td>\n",
       "      <td>\"GET https://paytm.com:443/api/user/favourite?...</td>\n",
       "      <td>\"Mozilla/5.0 (Windows NT 6.1) AppleWebKit/537....</td>\n",
       "      <td>ECDHE-RSA-AES128-GCM-SHA256</td>\n",
       "      <td>TLSv1.2</td>\n",
       "    </tr>\n",
       "    <tr>\n",
       "      <th>6</th>\n",
       "      <td>2015-07-22 09:00:28.055029+00:00</td>\n",
       "      <td>marketpalce-shop</td>\n",
       "      <td>101.60.186.26:33177</td>\n",
       "      <td>10.0.4.244:80</td>\n",
       "      <td>0.00002</td>\n",
       "      <td>0.001098</td>\n",
       "      <td>0.000022</td>\n",
       "      <td>200</td>\n",
       "      <td>200</td>\n",
       "      <td>0</td>\n",
       "      <td>1150</td>\n",
       "      <td>\"GET https://paytm.com:443/favicon.ico HTTP/1.1\"</td>\n",
       "      <td>\"Mozilla/5.0 (Windows NT 6.3; rv:27.0) Gecko/2...</td>\n",
       "      <td>ECDHE-RSA-AES128-GCM-SHA256</td>\n",
       "      <td>TLSv1.2</td>\n",
       "    </tr>\n",
       "    <tr>\n",
       "      <th>7</th>\n",
       "      <td>2015-07-22 09:00:28.050298+00:00</td>\n",
       "      <td>marketpalce-shop</td>\n",
       "      <td>59.183.41.47:62014</td>\n",
       "      <td>10.0.4.227:80</td>\n",
       "      <td>0.000021</td>\n",
       "      <td>0.008161</td>\n",
       "      <td>0.000021</td>\n",
       "      <td>200</td>\n",
       "      <td>200</td>\n",
       "      <td>0</td>\n",
       "      <td>72</td>\n",
       "      <td>\"GET https://paytm.com:443/papi/rr/products/69...</td>\n",
       "      <td>\"Mozilla/5.0 (Windows NT 6.3; WOW64) AppleWebK...</td>\n",
       "      <td>ECDHE-RSA-AES128-GCM-SHA256</td>\n",
       "      <td>TLSv1.2</td>\n",
       "    </tr>\n",
       "    <tr>\n",
       "      <th>8</th>\n",
       "      <td>2015-07-22 09:00:28.059081+00:00</td>\n",
       "      <td>marketpalce-shop</td>\n",
       "      <td>117.239.195.66:50538</td>\n",
       "      <td>10.0.4.227:80</td>\n",
       "      <td>0.000019</td>\n",
       "      <td>0.001035</td>\n",
       "      <td>0.000021</td>\n",
       "      <td>200</td>\n",
       "      <td>200</td>\n",
       "      <td>0</td>\n",
       "      <td>396</td>\n",
       "      <td>\"GET https://paytm.com:443/images/greyStar.png...</td>\n",
       "      <td>\"Mozilla/5.0 (Windows NT 6.1) AppleWebKit/537....</td>\n",
       "      <td>ECDHE-RSA-AES128-GCM-SHA256</td>\n",
       "      <td>TLSv1.2</td>\n",
       "    </tr>\n",
       "    <tr>\n",
       "      <th>9</th>\n",
       "      <td>2015-07-22 09:00:28.054939+00:00</td>\n",
       "      <td>marketpalce-shop</td>\n",
       "      <td>183.83.237.83:49687</td>\n",
       "      <td>10.0.6.108:80</td>\n",
       "      <td>0.000023</td>\n",
       "      <td>0.008762</td>\n",
       "      <td>0.000021</td>\n",
       "      <td>200</td>\n",
       "      <td>200</td>\n",
       "      <td>0</td>\n",
       "      <td>214</td>\n",
       "      <td>\"GET https://paytm.com:443/shop/cart?channel=w...</td>\n",
       "      <td>\"Mozilla/5.0 (Windows NT 6.1; WOW64) AppleWebK...</td>\n",
       "      <td>ECDHE-RSA-AES128-GCM-SHA256</td>\n",
       "      <td>TLSv1.2</td>\n",
       "    </tr>\n",
       "    <tr>\n",
       "      <th>10</th>\n",
       "      <td>2015-07-22 09:00:28.064841+00:00</td>\n",
       "      <td>marketpalce-shop</td>\n",
       "      <td>117.195.91.36:25902</td>\n",
       "      <td>10.0.6.199:80</td>\n",
       "      <td>0.000019</td>\n",
       "      <td>0.002359</td>\n",
       "      <td>0.000022</td>\n",
       "      <td>200</td>\n",
       "      <td>200</td>\n",
       "      <td>0</td>\n",
       "      <td>16744</td>\n",
       "      <td>\"GET https://paytm.com:443/offer?utm_source=Af...</td>\n",
       "      <td>\"Mozilla/5.0 (Windows NT 6.1; WOW64; Trident/7...</td>\n",
       "      <td>ECDHE-RSA-AES128-SHA256</td>\n",
       "      <td>TLSv1.2</td>\n",
       "    </tr>\n",
       "    <tr>\n",
       "      <th>11</th>\n",
       "      <td>2015-07-22 09:00:28.064229+00:00</td>\n",
       "      <td>marketpalce-shop</td>\n",
       "      <td>122.180.245.251:50203</td>\n",
       "      <td>10.0.6.108:80</td>\n",
       "      <td>0.000022</td>\n",
       "      <td>0.003904</td>\n",
       "      <td>0.000022</td>\n",
       "      <td>200</td>\n",
       "      <td>200</td>\n",
       "      <td>0</td>\n",
       "      <td>14169</td>\n",
       "      <td>\"GET https://paytm.com:443/shop/summary/111621...</td>\n",
       "      <td>\"Mozilla/5.0 (Windows NT 6.1; WOW64) AppleWebK...</td>\n",
       "      <td>ECDHE-RSA-AES128-GCM-SHA256</td>\n",
       "      <td>TLSv1.2</td>\n",
       "    </tr>\n",
       "    <tr>\n",
       "      <th>12</th>\n",
       "      <td>2015-07-22 09:00:28.057527+00:00</td>\n",
       "      <td>marketpalce-shop</td>\n",
       "      <td>117.198.215.20:53517</td>\n",
       "      <td>10.0.6.195:80</td>\n",
       "      <td>0.000022</td>\n",
       "      <td>0.011078</td>\n",
       "      <td>0.000015</td>\n",
       "      <td>200</td>\n",
       "      <td>200</td>\n",
       "      <td>0</td>\n",
       "      <td>8334</td>\n",
       "      <td>\"GET https://paytm.com:443/blog/wp-content/the...</td>\n",
       "      <td>\"Mozilla/5.0 (Windows NT 6.3; WOW64) AppleWebK...</td>\n",
       "      <td>ECDHE-RSA-AES128-GCM-SHA256</td>\n",
       "      <td>TLSv1.2</td>\n",
       "    </tr>\n",
       "    <tr>\n",
       "      <th>13</th>\n",
       "      <td>2015-07-22 09:00:28.068481+00:00</td>\n",
       "      <td>marketpalce-shop</td>\n",
       "      <td>223.176.154.91:51582</td>\n",
       "      <td>10.0.6.108:80</td>\n",
       "      <td>0.000022</td>\n",
       "      <td>0.001926</td>\n",
       "      <td>0.000021</td>\n",
       "      <td>302</td>\n",
       "      <td>302</td>\n",
       "      <td>0</td>\n",
       "      <td>534</td>\n",
       "      <td>\"GET https://paytm.com:443/shop/login?isIframe...</td>\n",
       "      <td>\"Mozilla/5.0 (Linux; Android 4.2.2; GT-I9082 B...</td>\n",
       "      <td>ECDHE-RSA-AES128-GCM-SHA256</td>\n",
       "      <td>TLSv1.2</td>\n",
       "    </tr>\n",
       "    <tr>\n",
       "      <th>14</th>\n",
       "      <td>2015-07-22 09:00:28.002726+00:00</td>\n",
       "      <td>marketpalce-shop</td>\n",
       "      <td>223.225.236.110:32279</td>\n",
       "      <td>10.0.4.176:80</td>\n",
       "      <td>0.000025</td>\n",
       "      <td>0.069531</td>\n",
       "      <td>0.000021</td>\n",
       "      <td>200</td>\n",
       "      <td>200</td>\n",
       "      <td>105</td>\n",
       "      <td>532</td>\n",
       "      <td>\"POST https://paytm.com:443/api/v1/expresscart...</td>\n",
       "      <td>\"Mozilla/5.0 (iPhone; CPU iPhone OS 6_1_2 like...</td>\n",
       "      <td>ECDHE-RSA-AES128-SHA256</td>\n",
       "      <td>TLSv1.2</td>\n",
       "    </tr>\n",
       "    <tr>\n",
       "      <th>15</th>\n",
       "      <td>2015-07-22 09:00:28.064700+00:00</td>\n",
       "      <td>marketpalce-shop</td>\n",
       "      <td>117.241.97.140:51029</td>\n",
       "      <td>10.0.6.178:80</td>\n",
       "      <td>0.000021</td>\n",
       "      <td>0.011796</td>\n",
       "      <td>0.000015</td>\n",
       "      <td>200</td>\n",
       "      <td>200</td>\n",
       "      <td>0</td>\n",
       "      <td>228</td>\n",
       "      <td>\"GET https://paytm.com:443/shop/cart?channel=w...</td>\n",
       "      <td>\"Mozilla/5.0 (Windows NT 6.1; WOW64) AppleWebK...</td>\n",
       "      <td>ECDHE-RSA-AES128-GCM-SHA256</td>\n",
       "      <td>TLSv1.2</td>\n",
       "    </tr>\n",
       "    <tr>\n",
       "      <th>16</th>\n",
       "      <td>2015-07-22 09:00:28.059020+00:00</td>\n",
       "      <td>marketpalce-shop</td>\n",
       "      <td>117.205.247.140:53039</td>\n",
       "      <td>10.0.4.244:80</td>\n",
       "      <td>0.000021</td>\n",
       "      <td>0.021522</td>\n",
       "      <td>0.000021</td>\n",
       "      <td>449</td>\n",
       "      <td>449</td>\n",
       "      <td>97</td>\n",
       "      <td>252</td>\n",
       "      <td>\"POST https://paytm.com:443/papi/v1/expresscar...</td>\n",
       "      <td>\"Mozilla/5.0 (Windows NT 6.1) AppleWebKit/537....</td>\n",
       "      <td>ECDHE-RSA-AES128-GCM-SHA256</td>\n",
       "      <td>TLSv1.2</td>\n",
       "    </tr>\n",
       "    <tr>\n",
       "      <th>17</th>\n",
       "      <td>2015-07-22 09:00:28.071994+00:00</td>\n",
       "      <td>marketpalce-shop</td>\n",
       "      <td>14.102.53.58:4252</td>\n",
       "      <td>10.0.6.108:80</td>\n",
       "      <td>0.000023</td>\n",
       "      <td>0.018186</td>\n",
       "      <td>0.000015</td>\n",
       "      <td>406</td>\n",
       "      <td>406</td>\n",
       "      <td>71</td>\n",
       "      <td>166</td>\n",
       "      <td>\"POST https://paytm.com:443/shop/cart HTTP/1.1\"</td>\n",
       "      <td>\"Mozilla/5.0 (Windows NT 5.1) AppleWebKit/537....</td>\n",
       "      <td>ECDHE-RSA-AES128-GCM-SHA256</td>\n",
       "      <td>TLSv1.2</td>\n",
       "    </tr>\n",
       "    <tr>\n",
       "      <th>18</th>\n",
       "      <td>2015-07-22 09:00:28.069908+00:00</td>\n",
       "      <td>marketpalce-shop</td>\n",
       "      <td>203.200.99.67:41874</td>\n",
       "      <td>10.0.6.195:80</td>\n",
       "      <td>0.000021</td>\n",
       "      <td>0.020869</td>\n",
       "      <td>0.00002</td>\n",
       "      <td>200</td>\n",
       "      <td>200</td>\n",
       "      <td>0</td>\n",
       "      <td>822</td>\n",
       "      <td>\"GET https://paytm.com:443/shop/cart?channel=w...</td>\n",
       "      <td>\"Mozilla/5.0 (Windows NT 6.1) AppleWebKit/537....</td>\n",
       "      <td>ECDHE-RSA-AES128-GCM-SHA256</td>\n",
       "      <td>TLSv1.2</td>\n",
       "    </tr>\n",
       "    <tr>\n",
       "      <th>19</th>\n",
       "      <td>2015-07-22 09:00:28.019497+00:00</td>\n",
       "      <td>marketpalce-shop</td>\n",
       "      <td>107.167.109.204:38565</td>\n",
       "      <td>10.0.4.150:80</td>\n",
       "      <td>0.000023</td>\n",
       "      <td>0.072252</td>\n",
       "      <td>0.000021</td>\n",
       "      <td>302</td>\n",
       "      <td>302</td>\n",
       "      <td>189</td>\n",
       "      <td>74</td>\n",
       "      <td>\"POST https://paytm.com:443/ HTTP/1.1\"</td>\n",
       "      <td>\"Opera/9.80 (Windows Phone; Opera Mini/8.0.4/3...</td>\n",
       "      <td>ECDHE-RSA-AES128-SHA</td>\n",
       "      <td>TLSv1</td>\n",
       "    </tr>\n",
       "  </tbody>\n",
       "</table>\n",
       "</div>"
      ],
      "text/plain": [
       "                          timestamp               elb            client:port  \\\n",
       "0  2015-07-22 09:00:28.019143+00:00  marketpalce-shop  123.242.248.130:54635   \n",
       "1  2015-07-22 09:00:27.894580+00:00  marketpalce-shop    203.91.211.44:51402   \n",
       "2  2015-07-22 09:00:27.885745+00:00  marketpalce-shop      1.39.32.179:56419   \n",
       "3  2015-07-22 09:00:28.048369+00:00  marketpalce-shop   180.179.213.94:48725   \n",
       "4  2015-07-22 09:00:28.036251+00:00  marketpalce-shop   120.59.192.208:13527   \n",
       "5  2015-07-22 09:00:28.033793+00:00  marketpalce-shop   117.239.195.66:50524   \n",
       "6  2015-07-22 09:00:28.055029+00:00  marketpalce-shop    101.60.186.26:33177   \n",
       "7  2015-07-22 09:00:28.050298+00:00  marketpalce-shop     59.183.41.47:62014   \n",
       "8  2015-07-22 09:00:28.059081+00:00  marketpalce-shop   117.239.195.66:50538   \n",
       "9  2015-07-22 09:00:28.054939+00:00  marketpalce-shop    183.83.237.83:49687   \n",
       "10 2015-07-22 09:00:28.064841+00:00  marketpalce-shop    117.195.91.36:25902   \n",
       "11 2015-07-22 09:00:28.064229+00:00  marketpalce-shop  122.180.245.251:50203   \n",
       "12 2015-07-22 09:00:28.057527+00:00  marketpalce-shop   117.198.215.20:53517   \n",
       "13 2015-07-22 09:00:28.068481+00:00  marketpalce-shop   223.176.154.91:51582   \n",
       "14 2015-07-22 09:00:28.002726+00:00  marketpalce-shop  223.225.236.110:32279   \n",
       "15 2015-07-22 09:00:28.064700+00:00  marketpalce-shop   117.241.97.140:51029   \n",
       "16 2015-07-22 09:00:28.059020+00:00  marketpalce-shop  117.205.247.140:53039   \n",
       "17 2015-07-22 09:00:28.071994+00:00  marketpalce-shop      14.102.53.58:4252   \n",
       "18 2015-07-22 09:00:28.069908+00:00  marketpalce-shop    203.200.99.67:41874   \n",
       "19 2015-07-22 09:00:28.019497+00:00  marketpalce-shop  107.167.109.204:38565   \n",
       "\n",
       "     backend:port request_processing_time backend_processing_time  \\\n",
       "0   10.0.6.158:80                0.000022                0.026109   \n",
       "1   10.0.4.150:80                0.000024                 0.15334   \n",
       "2   10.0.4.244:80                0.000024                0.164958   \n",
       "3   10.0.6.108:80                 0.00002                0.002333   \n",
       "4   10.0.4.217:80                0.000024                0.015091   \n",
       "5   10.0.6.195:80                0.000024                 0.02157   \n",
       "6   10.0.4.244:80                 0.00002                0.001098   \n",
       "7   10.0.4.227:80                0.000021                0.008161   \n",
       "8   10.0.4.227:80                0.000019                0.001035   \n",
       "9   10.0.6.108:80                0.000023                0.008762   \n",
       "10  10.0.6.199:80                0.000019                0.002359   \n",
       "11  10.0.6.108:80                0.000022                0.003904   \n",
       "12  10.0.6.195:80                0.000022                0.011078   \n",
       "13  10.0.6.108:80                0.000022                0.001926   \n",
       "14  10.0.4.176:80                0.000025                0.069531   \n",
       "15  10.0.6.178:80                0.000021                0.011796   \n",
       "16  10.0.4.244:80                0.000021                0.021522   \n",
       "17  10.0.6.108:80                0.000023                0.018186   \n",
       "18  10.0.6.195:80                0.000021                0.020869   \n",
       "19  10.0.4.150:80                0.000023                0.072252   \n",
       "\n",
       "   response_processing_time elb_status_code backend_status_code  \\\n",
       "0                   0.00002             200                 200   \n",
       "1                  0.000026             200                 200   \n",
       "2                  0.000017             200                 200   \n",
       "3                  0.000021             200                 200   \n",
       "4                  0.000016             200                 200   \n",
       "5                  0.000021             200                 200   \n",
       "6                  0.000022             200                 200   \n",
       "7                  0.000021             200                 200   \n",
       "8                  0.000021             200                 200   \n",
       "9                  0.000021             200                 200   \n",
       "10                 0.000022             200                 200   \n",
       "11                 0.000022             200                 200   \n",
       "12                 0.000015             200                 200   \n",
       "13                 0.000021             302                 302   \n",
       "14                 0.000021             200                 200   \n",
       "15                 0.000015             200                 200   \n",
       "16                 0.000021             449                 449   \n",
       "17                 0.000015             406                 406   \n",
       "18                  0.00002             200                 200   \n",
       "19                 0.000021             302                 302   \n",
       "\n",
       "   received_bytes sent_bytes  \\\n",
       "0               0        699   \n",
       "1               0       1497   \n",
       "2               0        157   \n",
       "3               0      35734   \n",
       "4              68        640   \n",
       "5               0         60   \n",
       "6               0       1150   \n",
       "7               0         72   \n",
       "8               0        396   \n",
       "9               0        214   \n",
       "10              0      16744   \n",
       "11              0      14169   \n",
       "12              0       8334   \n",
       "13              0        534   \n",
       "14            105        532   \n",
       "15              0        228   \n",
       "16             97        252   \n",
       "17             71        166   \n",
       "18              0        822   \n",
       "19            189         74   \n",
       "\n",
       "                                              request  \\\n",
       "0   \"GET https://paytm.com:443/shop/authresponse?c...   \n",
       "1   \"GET https://paytm.com:443/shop/wallet/txnhist...   \n",
       "2   \"GET https://paytm.com:443/shop/wallet/txnhist...   \n",
       "3   \"GET https://paytm.com:443/shop/p/micromax-yu-...   \n",
       "4   \"POST https://paytm.com:443/papi/v1/expresscar...   \n",
       "5   \"GET https://paytm.com:443/api/user/favourite?...   \n",
       "6    \"GET https://paytm.com:443/favicon.ico HTTP/1.1\"   \n",
       "7   \"GET https://paytm.com:443/papi/rr/products/69...   \n",
       "8   \"GET https://paytm.com:443/images/greyStar.png...   \n",
       "9   \"GET https://paytm.com:443/shop/cart?channel=w...   \n",
       "10  \"GET https://paytm.com:443/offer?utm_source=Af...   \n",
       "11  \"GET https://paytm.com:443/shop/summary/111621...   \n",
       "12  \"GET https://paytm.com:443/blog/wp-content/the...   \n",
       "13  \"GET https://paytm.com:443/shop/login?isIframe...   \n",
       "14  \"POST https://paytm.com:443/api/v1/expresscart...   \n",
       "15  \"GET https://paytm.com:443/shop/cart?channel=w...   \n",
       "16  \"POST https://paytm.com:443/papi/v1/expresscar...   \n",
       "17    \"POST https://paytm.com:443/shop/cart HTTP/1.1\"   \n",
       "18  \"GET https://paytm.com:443/shop/cart?channel=w...   \n",
       "19             \"POST https://paytm.com:443/ HTTP/1.1\"   \n",
       "\n",
       "                                           user_agent  \\\n",
       "0   \"Mozilla/5.0 (Windows NT 6.1; WOW64) AppleWebK...   \n",
       "1   \"Mozilla/5.0 (Windows NT 6.1; rv:39.0) Gecko/2...   \n",
       "2   \"Mozilla/5.0 (Windows NT 6.1) AppleWebKit/537....   \n",
       "3                                                 \"-\"   \n",
       "4   \"Mozilla/5.0 (Windows NT 6.1; WOW64) AppleWebK...   \n",
       "5   \"Mozilla/5.0 (Windows NT 6.1) AppleWebKit/537....   \n",
       "6   \"Mozilla/5.0 (Windows NT 6.3; rv:27.0) Gecko/2...   \n",
       "7   \"Mozilla/5.0 (Windows NT 6.3; WOW64) AppleWebK...   \n",
       "8   \"Mozilla/5.0 (Windows NT 6.1) AppleWebKit/537....   \n",
       "9   \"Mozilla/5.0 (Windows NT 6.1; WOW64) AppleWebK...   \n",
       "10  \"Mozilla/5.0 (Windows NT 6.1; WOW64; Trident/7...   \n",
       "11  \"Mozilla/5.0 (Windows NT 6.1; WOW64) AppleWebK...   \n",
       "12  \"Mozilla/5.0 (Windows NT 6.3; WOW64) AppleWebK...   \n",
       "13  \"Mozilla/5.0 (Linux; Android 4.2.2; GT-I9082 B...   \n",
       "14  \"Mozilla/5.0 (iPhone; CPU iPhone OS 6_1_2 like...   \n",
       "15  \"Mozilla/5.0 (Windows NT 6.1; WOW64) AppleWebK...   \n",
       "16  \"Mozilla/5.0 (Windows NT 6.1) AppleWebKit/537....   \n",
       "17  \"Mozilla/5.0 (Windows NT 5.1) AppleWebKit/537....   \n",
       "18  \"Mozilla/5.0 (Windows NT 6.1) AppleWebKit/537....   \n",
       "19  \"Opera/9.80 (Windows Phone; Opera Mini/8.0.4/3...   \n",
       "\n",
       "                     ssl_cipher ssl_protocol  \n",
       "0   ECDHE-RSA-AES128-GCM-SHA256      TLSv1.2  \n",
       "1   ECDHE-RSA-AES128-GCM-SHA256      TLSv1.2  \n",
       "2   ECDHE-RSA-AES128-GCM-SHA256      TLSv1.2  \n",
       "3   ECDHE-RSA-AES128-GCM-SHA256      TLSv1.2  \n",
       "4   ECDHE-RSA-AES128-GCM-SHA256      TLSv1.2  \n",
       "5   ECDHE-RSA-AES128-GCM-SHA256      TLSv1.2  \n",
       "6   ECDHE-RSA-AES128-GCM-SHA256      TLSv1.2  \n",
       "7   ECDHE-RSA-AES128-GCM-SHA256      TLSv1.2  \n",
       "8   ECDHE-RSA-AES128-GCM-SHA256      TLSv1.2  \n",
       "9   ECDHE-RSA-AES128-GCM-SHA256      TLSv1.2  \n",
       "10      ECDHE-RSA-AES128-SHA256      TLSv1.2  \n",
       "11  ECDHE-RSA-AES128-GCM-SHA256      TLSv1.2  \n",
       "12  ECDHE-RSA-AES128-GCM-SHA256      TLSv1.2  \n",
       "13  ECDHE-RSA-AES128-GCM-SHA256      TLSv1.2  \n",
       "14      ECDHE-RSA-AES128-SHA256      TLSv1.2  \n",
       "15  ECDHE-RSA-AES128-GCM-SHA256      TLSv1.2  \n",
       "16  ECDHE-RSA-AES128-GCM-SHA256      TLSv1.2  \n",
       "17  ECDHE-RSA-AES128-GCM-SHA256      TLSv1.2  \n",
       "18  ECDHE-RSA-AES128-GCM-SHA256      TLSv1.2  \n",
       "19         ECDHE-RSA-AES128-SHA        TLSv1  "
      ]
     },
     "execution_count": 395,
     "metadata": {},
     "output_type": "execute_result"
    }
   ],
   "source": [
    "data.log_dataframe.head(20)"
   ]
  },
  {
   "cell_type": "code",
   "execution_count": 384,
   "metadata": {},
   "outputs": [],
   "source": [
    "session_second=1800\n",
    "# for i in \n",
    "dic={}\n",
    "for index,item in enumerate(data.log_dataframe[['client:port','timestamp']].iloc[:10000,:].sort_values(by=['client:port','timestamp']).values.tolist()):\n",
    "    if item[0] not in dic.keys():\n",
    "        dic[item[0]]=[[item[1]]]\n",
    "    else:\n",
    "        if (item[1]-dic[item[0]][-1][0]).total_seconds()<session_second:            \n",
    "            dic[item[0]][-1].append(item[1])\n",
    "        else:\n",
    "            dic[item[0]].append([item[1]])\n",
    "            "
   ]
  },
  {
   "cell_type": "code",
   "execution_count": 374,
   "metadata": {
    "scrolled": true
   },
   "outputs": [
    {
     "data": {
      "text/plain": [
       "[['1.39.32.179:56419',\n",
       "  '101.60.186.26:33177',\n",
       "  '117.239.195.66:50524',\n",
       "  '117.239.195.66:50538',\n",
       "  '120.59.192.208:13527',\n",
       "  '123.242.248.130:54635',\n",
       "  '180.179.213.94:48725',\n",
       "  '183.83.237.83:49687',\n",
       "  '203.91.211.44:51402',\n",
       "  '59.183.41.47:62014'],\n",
       " [Timestamp('2015-07-22 09:00:27.885745+0000', tz='tzutc()'),\n",
       "  Timestamp('2015-07-22 09:00:28.055029+0000', tz='tzutc()'),\n",
       "  Timestamp('2015-07-22 09:00:28.033793+0000', tz='tzutc()'),\n",
       "  Timestamp('2015-07-22 09:00:28.059081+0000', tz='tzutc()'),\n",
       "  Timestamp('2015-07-22 09:00:28.036251+0000', tz='tzutc()'),\n",
       "  Timestamp('2015-07-22 09:00:28.019143+0000', tz='tzutc()'),\n",
       "  Timestamp('2015-07-22 09:00:28.048369+0000', tz='tzutc()'),\n",
       "  Timestamp('2015-07-22 09:00:28.054939+0000', tz='tzutc()'),\n",
       "  Timestamp('2015-07-22 09:00:27.894580+0000', tz='tzutc()'),\n",
       "  Timestamp('2015-07-22 09:00:28.050298+0000', tz='tzutc()')]]"
      ]
     },
     "execution_count": 374,
     "metadata": {},
     "output_type": "execute_result"
    }
   ],
   "source": [
    "data.log_dataframe[['client:port','timestamp']].iloc[:10,:].sort_values(by=['client:port','timestamp']).transpose().values.tolist()"
   ]
  },
  {
   "cell_type": "code",
   "execution_count": 378,
   "metadata": {},
   "outputs": [
    {
     "data": {
      "text/plain": [
       "dict_keys(['1.39.32.179:56419', Timestamp('2015-07-22 09:00:27.885745+0000', tz='tzutc()')])"
      ]
     },
     "execution_count": 378,
     "metadata": {},
     "output_type": "execute_result"
    }
   ],
   "source": [
    "dic.keys()"
   ]
  },
  {
   "cell_type": "code",
   "execution_count": null,
   "metadata": {},
   "outputs": [],
   "source": [
    "data.log_dataframe.timestamp.max(),data.log_dataframe.timestamp.min()"
   ]
  },
  {
   "cell_type": "code",
   "execution_count": 334,
   "metadata": {},
   "outputs": [
    {
     "data": {
      "text/plain": [
       "Timestamp('2015-07-22 05:09:10.708356+0000', tz='tzutc()')"
      ]
     },
     "execution_count": 334,
     "metadata": {},
     "output_type": "execute_result"
    }
   ],
   "source": [
    "q.timestamp.min()"
   ]
  },
  {
   "cell_type": "code",
   "execution_count": 278,
   "metadata": {},
   "outputs": [],
   "source": [
    "column_list=[\n",
    "'timestamp',\n",
    "'elb',\n",
    "'client:port',\n",
    "'backend:port',\n",
    "'request_processing_time',\n",
    "'backend_processing_time',\n",
    "'response_processing_time',\n",
    "'elb_status_code',\n",
    "'backend_status_code',\n",
    "'received_bytes',\n",
    "'sent_bytes',\n",
    "'request',\n",
    "'user_agent',\n",
    "'ssl_cipher',\n",
    "'ssl_protocol']\n",
    "content_list=[]\n",
    "with gzip.open('data/2015_07_22_mktplace_shop_web_log_sample.log.gz', 'rb') as f:\n",
    "    for row in f:\n",
    "        \n",
    "        variable_row=re.split((\" (?=(?:[^\\\"]*\\\"[^\\\"]*\\\")*[^\\\"]*$)\"),row.strip().decode())\n",
    "        \n",
    "        #string split succefully\n",
    "        if len(variable_row)==len(column_list):\n",
    "            pass\n",
    "        # double quotation        \n",
    "        else:\n",
    "            request=re.search(\"GET.*HTTP/[0-9]+.[0-9]+\",row.strip().decode())[0]\n",
    "            row_update=re.sub('\"GET.*HTTP/[0-9]+.[0-9]+\" ','',row.strip().decode())\n",
    "            variable_row=re.split((\" (?=(?:[^\\\"]*\\\"[^\\\"]*\\\")*[^\\\"]*$)\"),row_update)\n",
    "            variable_row.insert(column_list.index('request'),request)\n",
    "        \n",
    "        content_list.append(variable_row)"
   ]
  },
  {
   "cell_type": "code",
   "execution_count": 276,
   "metadata": {},
   "outputs": [
    {
     "data": {
      "text/plain": [
       "['2015-07-22T16:10:50.867328Z',\n",
       " 'marketpalce-shop',\n",
       " '59.93.224.85:12012',\n",
       " '10.0.4.244:80',\n",
       " '0.000024',\n",
       " '0.003478',\n",
       " '0.000016',\n",
       " '200',\n",
       " '200',\n",
       " '0',\n",
       " '1999',\n",
       " '\"GET https://paytm.com:443/offer/wp-content/plugins/wc-gallery/includes/css/magnific-popup.css?ver=0.9.9 HTTP/1.1\"',\n",
       " '\"Mozilla/5.0 (Linux; U; Android 4.2.2; en-us; HTC One X+ Build/JDQ39) AppleWebKit/534.30 (KHTML, like Gecko) Version/4.0 Mobile Safari/534.30\"',\n",
       " 'ECDHE-RSA-AES128-SHA',\n",
       " 'TLSv1']"
      ]
     },
     "execution_count": 276,
     "metadata": {},
     "output_type": "execute_result"
    }
   ],
   "source": [
    "content_list[496260]"
   ]
  },
  {
   "cell_type": "code",
   "execution_count": 277,
   "metadata": {},
   "outputs": [
    {
     "data": {
      "text/plain": [
       "b'2015-07-22T16:10:50.873283Z marketpalce-shop 106.51.132.54:4210 10.0.6.99:81 0.000024 0.000215 0.00002 301 301 0 178 \"GET http://paytm.com:80/%27\"()&%251%3CScRiPt%20%3Eprompt(981045)%3C/ScRiPt%3E/about HTTP/1.1\" \"Mozilla/5.0 (compatible; MSIE 9.0; Windows NT 6.1; WOW64; Trident/5.0)\" - -\\n'"
      ]
     },
     "execution_count": 277,
     "metadata": {},
     "output_type": "execute_result"
    }
   ],
   "source": [
    "q[0]"
   ]
  },
  {
   "cell_type": "code",
   "execution_count": 284,
   "metadata": {
    "scrolled": true
   },
   "outputs": [
    {
     "name": "stdout",
     "output_type": "stream",
     "text": [
      "['2015-07-22T16:10:50.873283Z', 'marketpalce-shop', '106.51.132.54:4210', '10.0.6.99:81', '0.000024', '0.000215', '0.00002', '301', '301', '0', '178', 'GET http://paytm.com:80/%27\"()&%251%3CScRiPt%20%3Eprompt(981045)%3C/ScRiPt%3E/about HTTP/1.1', '\"Mozilla/5.0 (compatible; MSIE 9.0; Windows NT 6.1; WOW64; Trident/5.0)\"', '-', '-']\n",
      "\n",
      "\n",
      "\n",
      "['2015-07-22T16:10:50.917039Z', 'marketpalce-shop', '106.51.132.54:4170', '10.0.4.150:80', '0.000025', '0.004734', '0.000014', '200', '200', '0', '13820', 'GET https://paytm.com:443/\\'\"()&%251<ScRiPt%20>prompt(981045)</ScRiPt>/about HTTP/1.1', '\"Mozilla/5.0 (compatible; MSIE 9.0; Windows NT 6.1; WOW64; Trident/5.0)\"', 'DHE-RSA-AES128-SHA', 'TLSv1']\n",
      "\n",
      "\n",
      "\n",
      "['2015-07-22T16:10:51.693786Z', 'marketpalce-shop', '106.51.132.54:4213', '10.0.4.227:81', '0.000023', '0.001021', '0.000022', '301', '301', '0', '178', 'GET http://paytm.com:80/%27\"()&%251%3CScRiPt%20%3Eprompt(979725)%3C/ScRiPt%3E/bug-bounty HTTP/1.1', '\"Mozilla/5.0 (compatible; MSIE 9.0; Windows NT 6.1; WOW64; Trident/5.0)\"', '-', '-']\n",
      "\n",
      "\n",
      "\n",
      "['2015-07-22T16:10:51.757318Z', 'marketpalce-shop', '106.51.132.54:5035', '10.0.4.244:80', '0.000022', '0.004901', '0.000023', '200', '200', '0', '13820', 'GET https://paytm.com:443/\\'\"()&%251<ScRiPt%20>prompt(979725)</ScRiPt>/bug-bounty HTTP/1.1', '\"Mozilla/5.0 (compatible; MSIE 9.0; Windows NT 6.1; WOW64; Trident/5.0)\"', 'DHE-RSA-AES128-SHA', 'TLSv1']\n",
      "\n",
      "\n",
      "\n",
      "['2015-07-22T16:10:52.336491Z', 'marketpalce-shop', '106.51.132.54:4217', '10.0.6.195:81', '0.000019', '0.000287', '0.00002', '301', '301', '0', '178', 'GET http://paytm.com:80/%27\"()&%251%3CScRiPt%20%3Eprompt(930094)%3C/ScRiPt%3E/greencart HTTP/1.1', '\"Mozilla/5.0 (compatible; MSIE 9.0; Windows NT 6.1; WOW64; Trident/5.0)\"', '-', '-']\n",
      "\n",
      "\n",
      "\n",
      "['2015-07-22T16:10:52.421298Z', 'marketpalce-shop', '106.51.132.54:5048', '10.0.6.195:80', '0.00002', '0.003154', '0.00002', '200', '200', '0', '13820', 'GET https://paytm.com:443/\\'\"()&%251<ScRiPt%20>prompt(930094)</ScRiPt>/greencart HTTP/1.1', '\"Mozilla/5.0 (compatible; MSIE 9.0; Windows NT 6.1; WOW64; Trident/5.0)\"', 'DHE-RSA-AES128-SHA', 'TLSv1']\n",
      "\n",
      "\n",
      "\n",
      "['2015-07-22T16:10:53.041560Z', 'marketpalce-shop', '106.51.132.54:4222', '10.0.4.244:81', '0.000017', '0.001042', '0.000021', '301', '301', '0', '178', 'GET http://paytm.com:80/%27\"()&%251%3CScRiPt%20%3Eprompt(909775)%3C/ScRiPt%3E/meru HTTP/1.1', '\"Mozilla/5.0 (compatible; MSIE 9.0; Windows NT 6.1; WOW64; Trident/5.0)\"', '-', '-']\n",
      "\n",
      "\n",
      "\n",
      "['2015-07-22T16:10:53.085825Z', 'marketpalce-shop', '106.51.132.54:5048', '10.0.4.217:80', '0.000021', '0.005931', '0.000019', '200', '200', '0', '13820', 'GET https://paytm.com:443/\\'\"()&%251<ScRiPt%20>prompt(909775)</ScRiPt>/meru HTTP/1.1', '\"Mozilla/5.0 (compatible; MSIE 9.0; Windows NT 6.1; WOW64; Trident/5.0)\"', 'DHE-RSA-AES128-SHA', 'TLSv1']\n",
      "\n",
      "\n",
      "\n",
      "['2015-07-22T16:10:54.415416Z', 'marketpalce-shop', '106.51.132.54:4227', '10.0.6.178:81', '0.000021', '0.000207', '0.00002', '301', '301', '0', '178', 'GET http://paytm.com:80/%27\"()&%251%3CScRiPt%20%3Eprompt(947954)%3C/ScRiPt%3E/security HTTP/1.1', '\"Mozilla/5.0 (compatible; MSIE 9.0; Windows NT 6.1; WOW64; Trident/5.0)\"', '-', '-']\n",
      "\n",
      "\n",
      "\n",
      "['2015-07-22T16:10:54.498906Z', 'marketpalce-shop', '106.51.132.54:4216', '10.0.4.150:80', '0.00002', '0.005455', '0.000025', '200', '200', '0', '13820', 'GET https://paytm.com:443/\\'\"()&%251<ScRiPt%20>prompt(947954)</ScRiPt>/security HTTP/1.1', '\"Mozilla/5.0 (compatible; MSIE 9.0; Windows NT 6.1; WOW64; Trident/5.0)\"', 'DHE-RSA-AES128-SHA', 'TLSv1']\n",
      "\n",
      "\n",
      "\n",
      "['2015-07-22T16:10:54.948009Z', 'marketpalce-shop', '106.51.132.54:4233', '10.0.4.150:81', '0.000026', '0.00113', '0.000018', '301', '301', '0', '178', 'GET http://paytm.com:80/%27\"()&%251%3CScRiPt%20%3Eprompt(940817)%3C/ScRiPt%3E/termsconditions HTTP/1.1', '\"Mozilla/5.0 (compatible; MSIE 9.0; Windows NT 6.1; WOW64; Trident/5.0)\"', '-', '-']\n",
      "\n",
      "\n",
      "\n",
      "['2015-07-22T16:10:54.994028Z', 'marketpalce-shop', '106.51.132.54:5048', '10.0.6.178:80', '0.000023', '0.004066', '0.000022', '200', '200', '0', '13820', 'GET https://paytm.com:443/\\'\"()&%251<ScRiPt%20>prompt(940817)</ScRiPt>/termsconditions HTTP/1.1', '\"Mozilla/5.0 (compatible; MSIE 9.0; Windows NT 6.1; WOW64; Trident/5.0)\"', 'DHE-RSA-AES128-SHA', 'TLSv1']\n",
      "\n",
      "\n",
      "\n"
     ]
    }
   ],
   "source": [
    "for i in [496261,\n",
    " 496278,\n",
    " 496681,\n",
    " 496708,\n",
    " 496964,\n",
    " 497003,\n",
    " 497229,\n",
    " 497256,\n",
    " 497725,\n",
    " 497766,\n",
    " 497963,\n",
    " 497986]:\n",
    "    print(content_list[i])\n",
    "    print()\n",
    "    print()\n",
    "    print()"
   ]
  },
  {
   "cell_type": "code",
   "execution_count": 279,
   "metadata": {
    "scrolled": true
   },
   "outputs": [],
   "source": [
    "from collections import Counter\n",
    "dic={}\n",
    "for ix,i in enumerate(content_list):\n",
    "    if len(i) not in dic.keys():\n",
    "        dic[len(i)]=[ix]\n",
    "    else:\n",
    "        dic[len(i)].append(ix)\n",
    "    "
   ]
  },
  {
   "cell_type": "code",
   "execution_count": 280,
   "metadata": {
    "scrolled": true
   },
   "outputs": [
    {
     "data": {
      "text/plain": [
       "dict_keys([15])"
      ]
     },
     "execution_count": 280,
     "metadata": {},
     "output_type": "execute_result"
    }
   ],
   "source": [
    "dic.keys()"
   ]
  },
  {
   "cell_type": "code",
   "execution_count": 112,
   "metadata": {
    "scrolled": false
   },
   "outputs": [],
   "source": [
    "q=[]\n",
    "with gzip.open('data/2015_07_22_mktplace_shop_web_log_sample.log.gz', 'rb') as f:\n",
    "    for index,row in enumerate(f):\n",
    "        if index in dic[5]:\n",
    "            q.append(row)"
   ]
  },
  {
   "cell_type": "code",
   "execution_count": 274,
   "metadata": {},
   "outputs": [
    {
     "data": {
      "text/plain": [
       "[496261,\n",
       " 496278,\n",
       " 496681,\n",
       " 496708,\n",
       " 496964,\n",
       " 497003,\n",
       " 497229,\n",
       " 497256,\n",
       " 497725,\n",
       " 497766,\n",
       " 497963,\n",
       " 497986]"
      ]
     },
     "execution_count": 274,
     "metadata": {},
     "output_type": "execute_result"
    }
   ],
   "source": [
    "dic[14]"
   ]
  },
  {
   "cell_type": "code",
   "execution_count": 281,
   "metadata": {},
   "outputs": [
    {
     "data": {
      "text/plain": [
       "['2015-07-22T16:10:50.867328Z',\n",
       " 'marketpalce-shop',\n",
       " '59.93.224.85:12012',\n",
       " '10.0.4.244:80',\n",
       " '0.000024',\n",
       " '0.003478',\n",
       " '0.000016',\n",
       " '200',\n",
       " '200',\n",
       " '0',\n",
       " '1999',\n",
       " '\"GET https://paytm.com:443/offer/wp-content/plugins/wc-gallery/includes/css/magnific-popup.css?ver=0.9.9 HTTP/1.1\"',\n",
       " '\"Mozilla/5.0 (Linux; U; Android 4.2.2; en-us; HTC One X+ Build/JDQ39) AppleWebKit/534.30 (KHTML, like Gecko) Version/4.0 Mobile Safari/534.30\"',\n",
       " 'ECDHE-RSA-AES128-SHA',\n",
       " 'TLSv1']"
      ]
     },
     "execution_count": 281,
     "metadata": {},
     "output_type": "execute_result"
    }
   ],
   "source": [
    "content_list[496260]"
   ]
  },
  {
   "cell_type": "code",
   "execution_count": 218,
   "metadata": {
    "scrolled": true
   },
   "outputs": [
    {
     "ename": "IndexError",
     "evalue": "list index out of range",
     "output_type": "error",
     "traceback": [
      "\u001b[0;31m---------------------------------------------------------------------------\u001b[0m",
      "\u001b[0;31mIndexError\u001b[0m                                Traceback (most recent call last)",
      "\u001b[0;32m<ipython-input-218-f3fcbe967a72>\u001b[0m in \u001b[0;36m<module>\u001b[0;34m\u001b[0m\n\u001b[0;32m----> 1\u001b[0;31m \u001b[0mcontent_list\u001b[0m\u001b[0;34m[\u001b[0m\u001b[0;36m496244\u001b[0m\u001b[0;34m]\u001b[0m\u001b[0;34m\u001b[0m\u001b[0;34m\u001b[0m\u001b[0m\n\u001b[0m",
      "\u001b[0;31mIndexError\u001b[0m: list index out of range"
     ]
    }
   ],
   "source": [
    "content_list[496244]"
   ]
  },
  {
   "cell_type": "code",
   "execution_count": 124,
   "metadata": {},
   "outputs": [
    {
     "data": {
      "text/plain": [
       "[b'2015-07-22T16:10:50.873283Z',\n",
       " b'marketpalce-shop',\n",
       " b'106.51.132.54:4210',\n",
       " b'10.0.6.99:81',\n",
       " b'0.000024',\n",
       " b'0.000215',\n",
       " b'0.00002',\n",
       " b'301',\n",
       " b'301',\n",
       " b'0',\n",
       " b'178',\n",
       " b'\"GET',\n",
       " b'http://paytm.com:80/%27\"()&%251%3CScRiPt%20%3Eprompt(981045)%3C/ScRiPt%3E/about',\n",
       " b'HTTP/1.1\"',\n",
       " b'\"Mozilla/5.0',\n",
       " b'(compatible;',\n",
       " b'MSIE',\n",
       " b'9.0;',\n",
       " b'Windows',\n",
       " b'NT',\n",
       " b'6.1;',\n",
       " b'WOW64;',\n",
       " b'Trident/5.0)\"',\n",
       " b'-',\n",
       " b'-']"
      ]
     },
     "execution_count": 124,
     "metadata": {},
     "output_type": "execute_result"
    }
   ],
   "source": [
    "q[0].split()"
   ]
  },
  {
   "cell_type": "code",
   "execution_count": 192,
   "metadata": {},
   "outputs": [
    {
     "data": {
      "text/plain": [
       "<re.Match object; span=(0, 17), match='Larry loves apple'>"
      ]
     },
     "execution_count": 192,
     "metadata": {},
     "output_type": "execute_result"
    }
   ],
   "source": [
    "re.search('^La.*le$',\"Larry loves apple\")"
   ]
  },
  {
   "cell_type": "code",
   "execution_count": 182,
   "metadata": {},
   "outputs": [
    {
     "data": {
      "text/plain": [
       "'2015-07-22T16:10:50.873283Z marketpalce-shop 106.51.132.54:4210 10.0.6.99:81 0.000024 0.000215 0.00002 301 301 0 178 \"GET http://paytm.com:80/%27\"()&%251%3CScRiPt%20%3Eprompt(981045)%3C/ScRiPt%3E/about HTTP/1.1\" \"Mozilla/5.0 (compatible; MSIE 9.0; Windows NT 6.1; WOW64; Trident/5.0)\" - -'"
      ]
     },
     "execution_count": 182,
     "metadata": {},
     "output_type": "execute_result"
    }
   ],
   "source": [
    "q[0].strip().decode()"
   ]
  },
  {
   "cell_type": "code",
   "execution_count": 194,
   "metadata": {},
   "outputs": [
    {
     "data": {
      "text/plain": [
       "[]"
      ]
     },
     "execution_count": 194,
     "metadata": {},
     "output_type": "execute_result"
    }
   ],
   "source": [
    "re.findall('^GET.*',q[0].strip().decode())"
   ]
  },
  {
   "cell_type": "code",
   "execution_count": null,
   "metadata": {},
   "outputs": [],
   "source": [
    "/^La.*le$/"
   ]
  },
  {
   "cell_type": "code",
   "execution_count": 254,
   "metadata": {
    "scrolled": true
   },
   "outputs": [
    {
     "data": {
      "text/plain": [
       "' \"GET http://paytm.com:80/%27\"()&%251%3CScRiPt%20%3Eprompt(981045)%3C/ScRiPt%3E/about HTTP/1.1\"'"
      ]
     },
     "execution_count": 254,
     "metadata": {},
     "output_type": "execute_result"
    }
   ],
   "source": [
    "re.search(' \"GET.*HTTP/[0-9]+.[0-9]+\"',q[0].strip().decode())[0]"
   ]
  },
  {
   "cell_type": "code",
   "execution_count": 261,
   "metadata": {},
   "outputs": [
    {
     "data": {
      "text/plain": [
       "['2015-07-22T16:10:51.693786Z',\n",
       " 'marketpalce-shop',\n",
       " '106.51.132.54:4213',\n",
       " '10.0.4.227:81',\n",
       " '0.000023',\n",
       " '0.001021',\n",
       " '0.000022',\n",
       " '301',\n",
       " '301',\n",
       " '0',\n",
       " '178\"Mozilla/5.0 (compatible; MSIE 9.0; Windows NT 6.1; WOW64; Trident/5.0)\"',\n",
       " '-',\n",
       " '-']"
      ]
     },
     "execution_count": 261,
     "metadata": {},
     "output_type": "execute_result"
    }
   ],
   "source": [
    "re.split(\" (?=(?:[^\\\"]*\\\"[^\\\"]*\\\")*[^\\\"]*$)\",re.sub(' \"GET.*HTTP/[0-9]+.[0-9]+\" ','',q[2].strip().decode()))"
   ]
  },
  {
   "cell_type": "code",
   "execution_count": 262,
   "metadata": {},
   "outputs": [
    {
     "data": {
      "text/plain": [
       "b'2015-07-22T16:10:54.948009Z marketpalce-shop 106.51.132.54:4233 10.0.4.150:81 0.000026 0.00113 0.000018 301 301 0 178 \"GET http://paytm.com:80/%27\"()&%251%3CScRiPt%20%3Eprompt(940817)%3C/ScRiPt%3E/termsconditions HTTP/1.1\" \"Mozilla/5.0 (compatible; MSIE 9.0; Windows NT 6.1; WOW64; Trident/5.0)\" - -\\n'"
      ]
     },
     "execution_count": 262,
     "metadata": {},
     "output_type": "execute_result"
    }
   ],
   "source": [
    "q[10]"
   ]
  },
  {
   "cell_type": "code",
   "execution_count": null,
   "metadata": {},
   "outputs": [],
   "source": [
    "pd.read_csv('data/2015_07_22_mktplace_shop_web_log_sample.log.gz',)"
   ]
  }
 ],
 "metadata": {
  "kernelspec": {
   "display_name": "Python 3",
   "language": "python",
   "name": "python3"
  },
  "language_info": {
   "codemirror_mode": {
    "name": "ipython",
    "version": 3
   },
   "file_extension": ".py",
   "mimetype": "text/x-python",
   "name": "python",
   "nbconvert_exporter": "python",
   "pygments_lexer": "ipython3",
   "version": "3.7.3"
  }
 },
 "nbformat": 4,
 "nbformat_minor": 2
}
